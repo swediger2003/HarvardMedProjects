{
 "cells": [
  {
   "cell_type": "code",
   "execution_count": 1,
   "id": "8fcc7b82",
   "metadata": {},
   "outputs": [],
   "source": [
    "import numpy as np\n",
    "import openpyxl as xl\n",
    "import matplotlib.pyplot as plt\n",
    "import pandas as pd\n",
    "import seaborn as sns"
   ]
  },
  {
   "cell_type": "code",
   "execution_count": 2,
   "id": "44bdd246",
   "metadata": {},
   "outputs": [],
   "source": [
    "import networkx as nx\n",
    "fname = 'db_mli_pc_231209_v2.gz'\n",
    "G = nx.read_gpickle(fname)"
   ]
  },
  {
   "cell_type": "code",
   "execution_count": 34,
   "id": "ae2fcfa5",
   "metadata": {},
   "outputs": [],
   "source": [
    "# for nid in G.nodes:\n",
    "#     print(f'{nid}: {G.nodes(data=True)[nid]}')"
   ]
  },
  {
   "cell_type": "code",
   "execution_count": 35,
   "id": "391c73f1",
   "metadata": {},
   "outputs": [],
   "source": [
    "#print(G.adj['interneuron_81'].keys())"
   ]
  },
  {
   "cell_type": "code",
   "execution_count": 36,
   "id": "8dcee97d",
   "metadata": {},
   "outputs": [],
   "source": [
    "# # Prints connections of neuron (no duplicates)\n",
    "# nid = 'interneuron_299'\n",
    "# print(f'postsyn of {nid}: {list(G.successors(nid))}')"
   ]
  },
  {
   "cell_type": "code",
   "execution_count": 87,
   "id": "4a4e1ecc",
   "metadata": {},
   "outputs": [],
   "source": [
    "# Updating cell type database \n",
    "\n",
    "\n",
    "data = pd.read_csv(r'C:\\Users\\regehr2\\HarvardMedProjects\\CellTypeDB.csv')\n",
    "#filtered_data = data[data['Neuron_ID'].isin(neurons)] \n",
    "\n",
    "CellType_dict = dict(zip(data['Neuron_ID'], data['Cell Type']))"
   ]
  },
  {
   "cell_type": "code",
   "execution_count": 6,
   "id": "6bfc464e",
   "metadata": {},
   "outputs": [],
   "source": [
    "# Prints the connections between one neuron and one possible connections\n",
    "def connections(name_neuron, possible_connection):\n",
    "    list(G.out_edges(name_neuron, data=True))\n",
    "    connects = list(G.out_edges(name_neuron, data=True))\n",
    "\n",
    "    counter = 0\n",
    "    for connection in connects:\n",
    "            if (connection[1] == possible_connection):\n",
    "                counter += 1\n",
    "                print(connection)\n",
    "            \n",
    "                \n",
    "    if (counter == 0):\n",
    "        print('No connections found between', name_neuron, 'and', \n",
    "        possible_connection)\n",
    "    counter = 0\n",
    "\n",
    "# Prints the number of connections between a neuron\n",
    "# (name_neuron) and a target neuron (possible_connections)\n",
    "def numConnections(name_neuron, possible_connection):\n",
    "    list(G.out_edges(name_neuron, data=True))\n",
    "    connects = list(G.out_edges(name_neuron, data=True))\n",
    "    numConnections = []\n",
    "    counter = 0\n",
    "    for connection in connects:\n",
    "            if (connection[1] == possible_connection):\n",
    "                counter += 1        \n",
    "                \n",
    "    print(\"Number of connections from\", name_neuron, \"to\", possible_connection, \":\", counter)\n",
    "            \n",
    "        \n",
    "        \n",
    "        \n",
    "# Prints all connections between each neuron in a list of\n",
    "# neurons and a certain other neuron (connect). Also prints # of connections are between the two    \n",
    "def check_all_connects(neurons, connect):\n",
    "\n",
    "    for neuron in neurons:\n",
    "        connections(neuron, connect)\n",
    "        print(\"\")\n",
    "        \n",
    "    for neuron in neurons:\n",
    "        numConnections(neuron, connect)\n"
   ]
  },
  {
   "cell_type": "code",
   "execution_count": 7,
   "id": "bfbed8ce",
   "metadata": {},
   "outputs": [],
   "source": [
    "neurons = ['interneuron_191',\n",
    "'interneuron_188',\n",
    "'interneuron_99',\n",
    "'interneuron_173',\n",
    "'interneuron_179',\n",
    "'interneuron_178',\n",
    "'interneuron_134',\n",
    "'interneuron_185',\n",
    "'interneuron_131',\n",
    "'interneuron_95',\n",
    "'interneuron_116',\n",
    "'interneuron_177',\n",
    "'interneuron_126'\n",
    "]"
   ]
  },
  {
   "cell_type": "code",
   "execution_count": 8,
   "id": "ca6ca322",
   "metadata": {
    "scrolled": true
   },
   "outputs": [
    {
     "name": "stdout",
     "output_type": "stream",
     "text": [
      "No connections found between interneuron_191 and pc_16\n",
      "\n",
      "('interneuron_188', 'pc_16', {'xyz': (122416.0, 71112.0, 640.0), 'area': 0.08316011177838174})\n",
      "('interneuron_188', 'pc_16', {'xyz': (123784.0, 73116.0, 687.0), 'area': 0.04578628617152932})\n",
      "('interneuron_188', 'pc_16', {'xyz': (125396.0, 73804.0, 717.0), 'area': 0.022132961187106472})\n",
      "('interneuron_188', 'pc_16', {'xyz': (126680.0, 69432.0, 768.0), 'area': 0.08940013561812132})\n",
      "('interneuron_188', 'pc_16', {'xyz': (121364.0, 93436.0, 768.0), 'area': 0.11790202648769699})\n",
      "('interneuron_188', 'pc_16', {'xyz': (105516.0, 70948.0, 822.0), 'area': 0.063169404177281})\n",
      "('interneuron_188', 'pc_16', {'xyz': (105560.0, 71048.0, 823.0), 'area': 0.035347752267545975})\n",
      "('interneuron_188', 'pc_16', {'xyz': (107960.0, 68192.0, 834.0), 'area': 0.07601197904291823})\n",
      "('interneuron_188', 'pc_16', {'xyz': (105632.0, 70904.0, 834.0), 'area': 0.07595803254147722})\n",
      "('interneuron_188', 'pc_16', {'xyz': (105712.0, 70964.0, 837.0), 'area': 0.07130146062847058})\n",
      "('interneuron_188', 'pc_16', {'xyz': (107828.0, 67684.0, 889.0), 'area': 0.02034214571341357})\n",
      "('interneuron_188', 'pc_16', {'xyz': (125412.0, 73708.0, 715.0), 'area': 0.09674203995498785})\n",
      "\n",
      "('interneuron_99', 'pc_16', {'xyz': (101828.0, 79884.0, 934.0), 'area': 0.002819540022273671})\n",
      "\n",
      "('interneuron_173', 'pc_16', {'xyz': (115216.0, 85504.0, 1111.0), 'area': 0.08902870594314363})\n",
      "\n",
      "No connections found between interneuron_179 and pc_16\n",
      "\n",
      "('interneuron_178', 'pc_16', {'xyz': (89436.0, 65788.0, 750.0), 'area': 0.0017348225099390855})\n",
      "('interneuron_178', 'pc_16', {'xyz': (89508.0, 65884.0, 755.0), 'area': 0.13657888325394898})\n",
      "('interneuron_178', 'pc_16', {'xyz': (105388.0, 80524.0, 939.0), 'area': 0.11207852127038638})\n",
      "('interneuron_178', 'pc_16', {'xyz': (107092.0, 83744.0, 939.0), 'area': 0.06834550138399276})\n",
      "('interneuron_178', 'pc_16', {'xyz': (105352.0, 80496.0, 944.0), 'area': 0.02248792573978758})\n",
      "('interneuron_178', 'pc_16', {'xyz': (104680.0, 79712.0, 966.0), 'area': 0.03954417265778885})\n",
      "('interneuron_178', 'pc_16', {'xyz': (104716.0, 79776.0, 967.0), 'area': 0.0063456058405252265})\n",
      "('interneuron_178', 'pc_16', {'xyz': (94200.0, 69404.0, 695.0), 'area': 0.021907378934552003})\n",
      "\n",
      "('interneuron_134', 'pc_16', {'xyz': (115716.0, 55544.0, 632.0), 'area': 0.1217133380787223})\n",
      "('interneuron_134', 'pc_16', {'xyz': (120096.0, 66240.0, 699.0), 'area': 0.007060759023819319})\n",
      "\n",
      "('interneuron_185', 'pc_16', {'xyz': (106412.0, 53456.0, 594.0), 'area': 0.10640373319278074})\n",
      "('interneuron_185', 'pc_16', {'xyz': (118476.0, 55752.0, 650.0), 'area': 0.005631915487545553})\n",
      "('interneuron_185', 'pc_16', {'xyz': (118484.0, 55796.0, 651.0), 'area': 0.05504181742103877})\n",
      "('interneuron_185', 'pc_16', {'xyz': (116872.0, 65984.0, 652.0), 'area': 0.12018120682873286})\n",
      "('interneuron_185', 'pc_16', {'xyz': (117212.0, 69712.0, 736.0), 'area': 0.09080057801958101})\n",
      "('interneuron_185', 'pc_16', {'xyz': (117064.0, 82092.0, 1048.0), 'area': 0.2399941343337431})\n",
      "('interneuron_185', 'pc_16', {'xyz': (116452.0, 81756.0, 1050.0), 'area': 0.16884274579867625})\n",
      "\n",
      "No connections found between interneuron_131 and pc_16\n",
      "\n",
      "No connections found between interneuron_95 and pc_16\n",
      "\n",
      "('interneuron_116', 'pc_16', {'xyz': (117060.0, 60152.0, 695.0), 'area': 0.009805647874999266})\n",
      "('interneuron_116', 'pc_16', {'xyz': (117308.0, 59920.0, 722.0), 'area': 0.02553020647416139})\n",
      "('interneuron_116', 'pc_16', {'xyz': (117304.0, 60096.0, 731.0), 'area': 0.0})\n",
      "('interneuron_116', 'pc_16', {'xyz': (117296.0, 60104.0, 733.0), 'area': 0.03025728629047847})\n",
      "('interneuron_116', 'pc_16', {'xyz': (112568.0, 65956.0, 787.0), 'area': 0.0918247123612567})\n",
      "('interneuron_116', 'pc_16', {'xyz': (105504.0, 67300.0, 788.0), 'area': 0.27302387793126676})\n",
      "('interneuron_116', 'pc_16', {'xyz': (113656.0, 68484.0, 791.0), 'area': 0.12448202027849863})\n",
      "('interneuron_116', 'pc_16', {'xyz': (109384.0, 66372.0, 792.0), 'area': 0.06073519111669426})\n",
      "('interneuron_116', 'pc_16', {'xyz': (117556.0, 73888.0, 810.0), 'area': 0.07171757680850102})\n",
      "('interneuron_116', 'pc_16', {'xyz': (116704.0, 72620.0, 811.0), 'area': 0.09948470203637189})\n",
      "('interneuron_116', 'pc_16', {'xyz': (110088.0, 66236.0, 814.0), 'area': 0.04793482857850506})\n",
      "('interneuron_116', 'pc_16', {'xyz': (119644.0, 75828.0, 818.0), 'area': 0.0323452799751043})\n",
      "('interneuron_116', 'pc_16', {'xyz': (117844.0, 74272.0, 820.0), 'area': 0.08328149802106379})\n",
      "('interneuron_116', 'pc_16', {'xyz': (119756.0, 77104.0, 844.0), 'area': 0.08317313057102825})\n",
      "('interneuron_116', 'pc_16', {'xyz': (119736.0, 76868.0, 854.0), 'area': 0.12693883979836207})\n",
      "('interneuron_116', 'pc_16', {'xyz': (106276.0, 67468.0, 864.0), 'area': 0.0868775886842267})\n",
      "('interneuron_116', 'pc_16', {'xyz': (107096.0, 67992.0, 865.0), 'area': 0.15941258482757648})\n",
      "('interneuron_116', 'pc_16', {'xyz': (115512.0, 70952.0, 866.0), 'area': 0.17495190142632414})\n",
      "('interneuron_116', 'pc_16', {'xyz': (111080.0, 69252.0, 869.0), 'area': 0.17219257002913843})\n",
      "('interneuron_116', 'pc_16', {'xyz': (114080.0, 82448.0, 917.0), 'area': 0.09193471444008507})\n",
      "('interneuron_116', 'pc_16', {'xyz': (116208.0, 70704.0, 963.0), 'area': 0.07699677291472803})\n",
      "('interneuron_116', 'pc_16', {'xyz': (113320.0, 81688.0, 998.0), 'area': 0.06067516667196534})\n",
      "('interneuron_116', 'pc_16', {'xyz': (111160.0, 81728.0, 1030.0), 'area': 0.030780935274127116})\n",
      "('interneuron_116', 'pc_16', {'xyz': (110916.0, 73736.0, 994.0), 'area': 0.2434033631808636})\n",
      "\n",
      "('interneuron_177', 'pc_16', {'xyz': (99708.0, 68672.0, 738.0), 'area': 0.2303829165827711})\n",
      "('interneuron_177', 'pc_16', {'xyz': (99412.0, 69108.0, 780.0), 'area': 0.12036763732253102})\n",
      "('interneuron_177', 'pc_16', {'xyz': (96596.0, 73544.0, 801.0), 'area': 0.013965032646918835})\n",
      "('interneuron_177', 'pc_16', {'xyz': (100444.0, 79216.0, 904.0), 'area': 0.09024158271561197})\n",
      "('interneuron_177', 'pc_16', {'xyz': (97536.0, 81024.0, 907.0), 'area': 0.026278498764156645})\n",
      "('interneuron_177', 'pc_16', {'xyz': (97620.0, 80904.0, 908.0), 'area': 0.08075613963553988})\n",
      "('interneuron_177', 'pc_16', {'xyz': (105648.0, 77268.0, 913.0), 'area': 0.21125984251191862})\n",
      "('interneuron_177', 'pc_16', {'xyz': (109440.0, 82012.0, 913.0), 'area': 0.15540489379997527})\n",
      "('interneuron_177', 'pc_16', {'xyz': (109536.0, 82060.0, 917.0), 'area': 0.08393770628987696})\n",
      "('interneuron_177', 'pc_16', {'xyz': (101164.0, 80804.0, 938.0), 'area': 0.12457212588850175})\n",
      "('interneuron_177', 'pc_16', {'xyz': (102640.0, 83976.0, 947.0), 'area': 0.19971913907169378})\n",
      "('interneuron_177', 'pc_16', {'xyz': (106888.0, 77092.0, 965.0), 'area': 0.056157464658978466})\n",
      "('interneuron_177', 'pc_16', {'xyz': (102340.0, 83312.0, 965.0), 'area': 0.2570642477616827})\n",
      "('interneuron_177', 'pc_16', {'xyz': (107284.0, 77440.0, 973.0), 'area': 0.04293398373636243})\n",
      "('interneuron_177', 'pc_16', {'xyz': (113820.0, 82204.0, 1017.0), 'area': 0.08665835710690888})\n",
      "('interneuron_177', 'pc_16', {'xyz': (113740.0, 82352.0, 1018.0), 'area': 0.024532907921384673})\n",
      "('interneuron_177', 'pc_16', {'xyz': (113684.0, 82304.0, 1021.0), 'area': 0.002623470604053814})\n",
      "('interneuron_177', 'pc_16', {'xyz': (115848.0, 84228.0, 1028.0), 'area': 0.11632636078363309})\n",
      "('interneuron_177', 'pc_16', {'xyz': (115944.0, 84364.0, 1028.0), 'area': 0.10174238466749341})\n",
      "('interneuron_177', 'pc_16', {'xyz': (116032.0, 84448.0, 1028.0), 'area': 0.05345070351571123})\n",
      "('interneuron_177', 'pc_16', {'xyz': (115220.0, 83148.0, 1031.0), 'area': 0.0036344473420771694})\n",
      "('interneuron_177', 'pc_16', {'xyz': (115332.0, 83340.0, 1031.0), 'area': 0.12325983680400641})\n",
      "('interneuron_177', 'pc_16', {'xyz': (115248.0, 83268.0, 1033.0), 'area': 0.034122867742159474})\n",
      "('interneuron_177', 'pc_16', {'xyz': (112684.0, 81644.0, 1034.0), 'area': 0.07813921113957158})\n",
      "('interneuron_177', 'pc_16', {'xyz': (115468.0, 83168.0, 1052.0), 'area': 0.1306054800314981})\n",
      "('interneuron_177', 'pc_16', {'xyz': (118092.0, 86044.0, 1119.0), 'area': 0.19766155851382816})\n",
      "('interneuron_177', 'pc_16', {'xyz': (118348.0, 86068.0, 1124.0), 'area': 0.06659475595935242})\n",
      "('interneuron_177', 'pc_16', {'xyz': (109500.0, 81896.0, 900.0), 'area': 0.07563670646579178})\n",
      "('interneuron_177', 'pc_16', {'xyz': (118232.0, 86012.0, 1110.0), 'area': 0.11781522987901616})\n",
      "\n",
      "No connections found between interneuron_126 and pc_16\n",
      "\n",
      "Number of connections from interneuron_191 to pc_16 : 0\n",
      "Number of connections from interneuron_188 to pc_16 : 12\n",
      "Number of connections from interneuron_99 to pc_16 : 1\n",
      "Number of connections from interneuron_173 to pc_16 : 1\n",
      "Number of connections from interneuron_179 to pc_16 : 0\n",
      "Number of connections from interneuron_178 to pc_16 : 8\n",
      "Number of connections from interneuron_134 to pc_16 : 2\n",
      "Number of connections from interneuron_185 to pc_16 : 7\n",
      "Number of connections from interneuron_131 to pc_16 : 0\n",
      "Number of connections from interneuron_95 to pc_16 : 0\n",
      "Number of connections from interneuron_116 to pc_16 : 24\n",
      "Number of connections from interneuron_177 to pc_16 : 29\n",
      "Number of connections from interneuron_126 to pc_16 : 0\n"
     ]
    }
   ],
   "source": [
    "check_all_connects(neurons, 'pc_16')"
   ]
  },
  {
   "cell_type": "code",
   "execution_count": 9,
   "id": "8c5724ca",
   "metadata": {},
   "outputs": [],
   "source": [
    "def bool_check_connects(name_neuron, possible_connection):\n",
    "    ret = False\n",
    "    list(G.out_edges(name_neuron, data=True))\n",
    "    connects = list(G.out_edges(name_neuron, data=True))\n",
    "    numConnections = []\n",
    "    counter = 0\n",
    "    for connection in connects:\n",
    "            if (connection[1] == possible_connection):\n",
    "                counter += 1                      \n",
    "    if (counter > 0):\n",
    "        ret = True\n",
    "    return ret\n",
    "\n",
    "# print(bool_check_connects('interneuron_188', 'pc_16'))"
   ]
  },
  {
   "cell_type": "code",
   "execution_count": 10,
   "id": "ad928fcc",
   "metadata": {},
   "outputs": [],
   "source": [
    "# # Opens an excel file and writes all the wanted data from connections\n",
    "# def automate_connections_id(name_neuron, possible_connection, xl_file_path):\n",
    "#     excel_file_path = r'C:\\Users\\regehr2\\Downloads\\test-book.xlsx'\n",
    "#     workbook = xl.load_workbook(xl_file_path)\n",
    "#     row_number, col_number = 1, 1\n",
    "#     list(G.out_edges(name_neuron, data=True))\n",
    "#     connects = list(G.out_edges(name_neuron, data=True))\n",
    "#     sheet = workbook.active\n",
    "#     sheet.delete_cols(1, sheet.max_row)\n",
    "#     sheet.delete_cols(2, sheet.max_row)\n",
    "#     sheet.delete_cols(3, sheet.max_row)\n",
    "#     sheet.delete_cols(4, sheet.max_row)\n",
    "\n",
    "\n",
    "#     for connection in connects: \n",
    "    \n",
    "            \n",
    "    \n",
    "#         if (connection[1] == possible_connection):\n",
    "#             sheet.cell(row=row_number, column=col_number, value=connection[0])\n",
    "#             sheet.cell(row=row_number, column=col_number + 1, value=connection[1])\n",
    "#             it = iter(connection[2].values())\n",
    "#             coord_str, area = str(next(iter(it))), next(iter(it))\n",
    "#             coord = coord_str.strip('(').strip(')')\n",
    "#             sheet.cell(row=row_number, column=col_number + 2, value=coord)\n",
    "#             sheet.cell(row=row_number, column=col_number + 3, value=area)\n",
    "#             row_number += 1\n",
    "\n",
    "#     workbook.save(xl_file_path)\n",
    "\n",
    "                \n",
    "            \n",
    "                \n",
    "    "
   ]
  },
  {
   "cell_type": "code",
   "execution_count": 93,
   "id": "98e72062",
   "metadata": {},
   "outputs": [],
   "source": [
    "def list_or_string_no_connection(name, sheet, possible_connection, row):\n",
    "    if isinstance(name, str):\n",
    "    # If name_neuron is a single string\n",
    "        if not bool_check_connects(name, possible_connection):\n",
    "            sheet.cell(row=row, column=1, value=name)\n",
    "            sheet.cell(row=row, column=2, value=possible_connection)\n",
    "            sheet.cell(row=row, column=3, value='No Connection')\n",
    "            sheet.cell(row=row, column=4, value='No Connection')\n",
    "            row += 1\n",
    "            return row\n",
    "    else:\n",
    "        # If name_neuron is a list of strings\n",
    "        for n in name:\n",
    "            if not bool_check_connects(n, possible_connection):\n",
    "                sheet.cell(row=row, column=1, value=n)\n",
    "                sheet.cell(row=row, column=2, value=possible_connection)\n",
    "                sheet.cell(row=row, column=3, value='No Connection')\n",
    "                sheet.cell(row=row, column=4, value='No Connection')\n",
    "                sheet.cell(row=row, column=5, value=CellType_dict.get(n))\n",
    "                row += 1\n",
    "    return row\n",
    "    "
   ]
  },
  {
   "cell_type": "code",
   "execution_count": 81,
   "id": "591ca08d",
   "metadata": {},
   "outputs": [],
   "source": [
    "# Opens an excel file and writes all the wanted data from connections\n",
    "def automate_connections_id(name_neuron, possible_connection, xl_file_path):\n",
    "    \n",
    "    # Activates spreadsheet and deletes anything that was already there.\n",
    "    # Sets row, col, gets list of all connections\n",
    "    \n",
    "    # excel_file_path = r'C:\\Users\\regehr2\\Downloads\\test-book.xlsx'\n",
    "    workbook = xl.load_workbook(xl_file_path)\n",
    "    row_number, col_number = 1, 1\n",
    "    list(G.out_edges(name_neuron, data=True))\n",
    "    connects = list(G.out_edges(name_neuron, data=True))\n",
    "    sheet = workbook.active\n",
    "    sheet.delete_cols(1, sheet.max_row)\n",
    "    sheet.delete_cols(2, sheet.max_row)\n",
    "    sheet.delete_cols(3, sheet.max_row)\n",
    "    sheet.delete_cols(4, sheet.max_row)\n",
    "    \n",
    "    # Goes through all neurons with no connection to possible_connection and writes no connection in \n",
    "    # spreadsheet\n",
    "    row_number = list_or_string_no_connection(name_neuron, sheet, possible_connection, row_number)\n",
    "    \n",
    "    # Goes through list of connections of input(s) and filters out non wanted connections then\n",
    "    # writes it to sheet\n",
    "    for connection in connects: \n",
    "        if (connection[1] == possible_connection):\n",
    "                sheet.cell(row=row_number, column=col_number, value=connection[0])\n",
    "                sheet.cell(row=row_number, column=col_number + 1, value=connection[1])\n",
    "                sheet.cell(row=row_number, column=col_number, value=connection[0])\n",
    "                sheet.cell(row=row_number, column=col_number + 1, value=connection[1])\n",
    "                it = iter(connection[2].values())\n",
    "                coord_str, area = str(next(iter(it))), next(iter(it))\n",
    "                coord = coord_str.strip('(').strip(')')\n",
    "                sheet.cell(row=row_number, column=col_number + 2, value=coord)\n",
    "                sheet.cell(row=row_number, column=col_number + 3, value=area)\n",
    "                c_type = CellType_dict.get(connection[0])\n",
    "               \n",
    "                sheet.cell(row=row_number, column=col_number + 4, value=c_type)\n",
    "                \n",
    "                \n",
    "\n",
    "                row_number += 1\n",
    "\n",
    "    workbook.save(xl_file_path)\n"
   ]
  },
  {
   "cell_type": "code",
   "execution_count": 82,
   "id": "9cc99465",
   "metadata": {},
   "outputs": [
    {
     "name": "stdout",
     "output_type": "stream",
     "text": [
      "None\n"
     ]
    }
   ],
   "source": [
    "print(CellType_dict.get('interneuron_298'))"
   ]
  },
  {
   "cell_type": "code",
   "execution_count": 83,
   "id": "e0ca0234",
   "metadata": {},
   "outputs": [],
   "source": [
    "# Goes through a list of neurons and writes all data from connections to each of those possible connections\n",
    "# to a given xl sheet path\n",
    "def automated_connections_list(loNeurons, wanted_connection, xl_path):\n",
    "#     for neuron in loNeurons:\n",
    "        automate_connections_id(loNeurons, wanted_connection, xl_path)\n",
    "        "
   ]
  },
  {
   "cell_type": "code",
   "execution_count": 249,
   "id": "29d505c3",
   "metadata": {
    "scrolled": true
   },
   "outputs": [],
   "source": [
    "# Testing if automate_connections_id works\n",
    "automate_connections_id('interneuron_191', 'pc_16', r'C:\\Users\\regehr2\\Downloads\\test-book.xlsx')"
   ]
  },
  {
   "cell_type": "code",
   "execution_count": 84,
   "id": "705e24de",
   "metadata": {},
   "outputs": [],
   "source": [
    "# Testing if automated_connections_list\n",
    "automated_connections_list(neurons,'pc_16', r'C:\\Users\\regehr2\\Downloads\\test-book.xlsx')"
   ]
  },
  {
   "cell_type": "markdown",
   "id": "ec4a467f",
   "metadata": {},
   "source": [
    "#  Visualizing pc_16 connections"
   ]
  },
  {
   "cell_type": "code",
   "execution_count": 88,
   "id": "28f4b378",
   "metadata": {},
   "outputs": [],
   "source": [
    "# importing data from csv File\n",
    "data = pd.read_csv(r'C:\\Users\\regehr2\\HarvardMedProjects\\CellTypeDB.csv')\n",
    "#filtered_data = data[data['Neuron_ID'].isin(neurons)] \n",
    "\n",
    "CellType_dict = dict(zip(data['Neuron_ID'], data['Cell Type']))\n"
   ]
  },
  {
   "cell_type": "code",
   "execution_count": 97,
   "id": "3eaee1bb",
   "metadata": {},
   "outputs": [
    {
     "data": {
      "image/png": "[encoded data removed]",
      "text/plain": [
       "<Figure size 640x480 with 1 Axes>"
      ]
     },
     "metadata": {},
     "output_type": "display_data"
    }
   ],
   "source": [
    "# Returns type of cell and number of times it connects with possible_connection\n",
    "def put_num_connections_df_helper(name_neuron, possible_connection):\n",
    "    list(G.out_edges(name_neuron, data=True))\n",
    "    connects = list(G.out_edges(name_neuron, data=True))\n",
    "    counter = 0\n",
    "    type_num = []\n",
    "    for connection in connects:\n",
    "            if (connection[1] == possible_connection):\n",
    "                counter += 1   \n",
    "    type_num = [CellType_dict.get(name_neuron), counter]\n",
    "    return type_num\n",
    "\n",
    "put_num_connections_df_helper('interneuron_177', 'pc_16')\n",
    "\n",
    "\n",
    "def put_num_connections_df_violin(neurons, possible_connection, col1, col2):\n",
    "    columns = [col1, col2]\n",
    "    whole_list = []\n",
    "    single_list = []\n",
    "    index = [0] * len(neurons)\n",
    "    \n",
    "    # puts all individual connection counts into a larger list\n",
    "    for i, neuron in enumerate(neurons):\n",
    "        single_list = put_num_connections_df_helper(neuron, possible_connection)\n",
    "        index[i] = i\n",
    "        whole_list.append(single_list)\n",
    "    \n",
    "    #puts whole_list into a pandas df\n",
    "    df = pd.DataFrame(whole_list, columns=columns, index=index)# #     df = pd.DataFrame(whole_dict)\n",
    "    df.loc[df['Cell Type'] == 'MLI1', 'Cell Type'] = 'MLI 1'\n",
    "    df.loc[df['Cell Type'] == 'MLI2', 'Cell Type'] = 'MLI 2'\n",
    "    df = df.sort_values(by=['Cell Type'])\n",
    "    \n",
    "    # wanted colors for cell types\n",
    "    colors = {'MLI 2' : '#73AF59', 'MLI 1' : '#FF00FF'}\n",
    "    \n",
    "    # Creating violin plot\n",
    "    sns.violinplot(x=col1, y=col2, data=df,  inner=None, palette=colors, scale='width')\n",
    "    sns.stripplot(x=col1, y=col2, data=df, color='black', size=4, jitter=False)\n",
    "    plt.title('Connections From ML1s and ML2s to '+ possible_connection )\n",
    "    plt.ylim(0, 60)\n",
    "    \n",
    "    plt.show()\n",
    "\n",
    "\n",
    "\n",
    "put_num_connections_df_violin(neurons, 'pc_16', 'Cell Type', 'Connections')\n",
    "    "
   ]
  },
  {
   "cell_type": "markdown",
   "id": "ed9eb38f",
   "metadata": {},
   "source": [
    "# Interneuron Connections onto pc_35"
   ]
  },
  {
   "cell_type": "code",
   "execution_count": 85,
   "id": "7f94423e",
   "metadata": {},
   "outputs": [],
   "source": [
    "neuron_connections_pc35 = ['interneuron_258',\n",
    "'interneuron_298',\n",
    "'interneuron_276',\n",
    "'interneuron_299',\n",
    "'interneuron_38',\n",
    "'interneuron_269',\n",
    "'interneuron_284',\n",
    "'interneuron_43'\n",
    "\n",
    "]"
   ]
  },
  {
   "cell_type": "code",
   "execution_count": 86,
   "id": "261e8fd0",
   "metadata": {
    "scrolled": true
   },
   "outputs": [
    {
     "name": "stdout",
     "output_type": "stream",
     "text": [
      "('interneuron_258', 'pc_35', {'xyz': (163024.0, 65140.0, 293.0), 'area': 0.13852107111100687})\n",
      "('interneuron_258', 'pc_35', {'xyz': (165792.0, 64180.0, 319.0), 'area': 0.29841263494122955})\n",
      "('interneuron_258', 'pc_35', {'xyz': (170860.0, 68596.0, 319.0), 'area': 0.03267677455866699})\n",
      "('interneuron_258', 'pc_35', {'xyz': (162504.0, 65680.0, 320.0), 'area': 0.3370007462920606})\n",
      "('interneuron_258', 'pc_35', {'xyz': (162272.0, 65764.0, 323.0), 'area': 0.07580625804654649})\n",
      "('interneuron_258', 'pc_35', {'xyz': (167624.0, 63324.0, 326.0), 'area': 0.09333263681587199})\n",
      "('interneuron_258', 'pc_35', {'xyz': (167016.0, 63760.0, 327.0), 'area': 0.003870900753887242})\n",
      "('interneuron_258', 'pc_35', {'xyz': (167524.0, 63328.0, 330.0), 'area': 0.1057905205211287})\n",
      "('interneuron_258', 'pc_35', {'xyz': (168120.0, 62432.0, 340.0), 'area': 0.009854915981302871})\n",
      "('interneuron_258', 'pc_35', {'xyz': (171024.0, 68856.0, 420.0), 'area': 0.051413525765278356})\n",
      "('interneuron_258', 'pc_35', {'xyz': (169992.0, 61780.0, 491.0), 'area': 0.16230302787250125})\n",
      "('interneuron_258', 'pc_35', {'xyz': (172960.0, 67812.0, 684.0), 'area': 0.0021595161748274106})\n",
      "('interneuron_258', 'pc_35', {'xyz': (172932.0, 67816.0, 686.0), 'area': 0.022114833544090905})\n",
      "\n",
      "('interneuron_298', 'pc_35', {'xyz': (163572.0, 67404.0, 234.0), 'area': 0.005004965429065872})\n",
      "('interneuron_298', 'pc_35', {'xyz': (163692.0, 67548.0, 237.0), 'area': 0.0036753226514515333})\n",
      "('interneuron_298', 'pc_35', {'xyz': (165196.0, 76640.0, 418.0), 'area': 0.1297111453458687})\n",
      "('interneuron_298', 'pc_35', {'xyz': (169532.0, 71384.0, 436.0), 'area': 0.07558980619084014})\n",
      "('interneuron_298', 'pc_35', {'xyz': (188128.0, 73020.0, 455.0), 'area': 0.043782632861602215})\n",
      "('interneuron_298', 'pc_35', {'xyz': (188112.0, 72984.0, 462.0), 'area': 0.0915583233704081})\n",
      "('interneuron_298', 'pc_35', {'xyz': (181856.0, 70820.0, 473.0), 'area': 0.12057436684450729})\n",
      "('interneuron_298', 'pc_35', {'xyz': (181988.0, 70808.0, 475.0), 'area': 0.09035425457871452})\n",
      "('interneuron_298', 'pc_35', {'xyz': (167684.0, 74036.0, 481.0), 'area': 0.10233417235995855})\n",
      "('interneuron_298', 'pc_35', {'xyz': (182220.0, 71024.0, 487.0), 'area': 0.06392797886179699})\n",
      "('interneuron_298', 'pc_35', {'xyz': (179548.0, 77480.0, 504.0), 'area': 0.03492952918336644})\n",
      "('interneuron_298', 'pc_35', {'xyz': (179560.0, 77580.0, 508.0), 'area': 0.08746645120847749})\n",
      "('interneuron_298', 'pc_35', {'xyz': (181296.0, 82968.0, 515.0), 'area': 0.03371573949026553})\n",
      "('interneuron_298', 'pc_35', {'xyz': (181220.0, 82792.0, 519.0), 'area': 0.0486527343463069})\n",
      "('interneuron_298', 'pc_35', {'xyz': (179576.0, 78360.0, 520.0), 'area': 0.06414169066438492})\n",
      "('interneuron_298', 'pc_35', {'xyz': (181076.0, 82536.0, 523.0), 'area': 0.0754575431396184})\n",
      "('interneuron_298', 'pc_35', {'xyz': (181412.0, 83328.0, 524.0), 'area': 0.003448359335084816})\n",
      "('interneuron_298', 'pc_35', {'xyz': (181388.0, 83184.0, 525.0), 'area': 0.04037056486397179})\n",
      "('interneuron_298', 'pc_35', {'xyz': (179848.0, 79368.0, 539.0), 'area': 0.18696498741668277})\n",
      "('interneuron_298', 'pc_35', {'xyz': (187528.0, 74956.0, 562.0), 'area': 0.09460985417986921})\n",
      "('interneuron_298', 'pc_35', {'xyz': (189060.0, 77340.0, 599.0), 'area': 0.024145674892833903})\n",
      "('interneuron_298', 'pc_35', {'xyz': (171088.0, 82916.0, 631.0), 'area': 0.03558564856133634})\n",
      "\n",
      "No connections found between interneuron_276 and pc_35\n",
      "\n",
      "('interneuron_299', 'pc_35', {'xyz': (165604.0, 67312.0, 344.0), 'area': 0.034866557142231906})\n",
      "('interneuron_299', 'pc_35', {'xyz': (167476.0, 68348.0, 369.0), 'area': 0.10189346957261924})\n",
      "('interneuron_299', 'pc_35', {'xyz': (171632.0, 78788.0, 467.0), 'area': 0.16681757985678575})\n",
      "('interneuron_299', 'pc_35', {'xyz': (173640.0, 73960.0, 505.0), 'area': 0.002706017831275757})\n",
      "('interneuron_299', 'pc_35', {'xyz': (174292.0, 75140.0, 548.0), 'area': 0.03253434737579778})\n",
      "\n",
      "No connections found between interneuron_38 and pc_35\n",
      "\n",
      "('interneuron_269', 'pc_35', {'xyz': (167956.0, 59644.0, 159.0), 'area': 0.17622353235052735})\n",
      "\n",
      "No connections found between interneuron_284 and pc_35\n",
      "\n",
      "('interneuron_43', 'pc_35', {'xyz': (169496.0, 41692.0, 119.0), 'area': 0.1465437383264997})\n",
      "\n",
      "Number of connections from interneuron_258 to pc_35 : 13\n",
      "Number of connections from interneuron_298 to pc_35 : 22\n",
      "Number of connections from interneuron_276 to pc_35 : 0\n",
      "Number of connections from interneuron_299 to pc_35 : 5\n",
      "Number of connections from interneuron_38 to pc_35 : 0\n",
      "Number of connections from interneuron_269 to pc_35 : 1\n",
      "Number of connections from interneuron_284 to pc_35 : 0\n",
      "Number of connections from interneuron_43 to pc_35 : 1\n"
     ]
    }
   ],
   "source": [
    "check_all_connects(neuron_connections_pc35, 'pc_35')"
   ]
  },
  {
   "cell_type": "code",
   "execution_count": 94,
   "id": "fc40afbf",
   "metadata": {},
   "outputs": [],
   "source": [
    "# Write data to spreadsheet to copy to main google sheets\n",
    "automated_connections_list(neuron_connections_pc35,'pc_35', r'C:\\Users\\regehr2\\Downloads\\test-book.xlsx')"
   ]
  },
  {
   "cell_type": "markdown",
   "id": "7202a4c2",
   "metadata": {},
   "source": [
    "# Visualizing Connections onto PC_35"
   ]
  },
  {
   "cell_type": "markdown",
   "id": "97f6163a",
   "metadata": {},
   "source": [
    "Make sure to update the dictionary/df"
   ]
  },
  {
   "cell_type": "code",
   "execution_count": 98,
   "id": "5042f822",
   "metadata": {},
   "outputs": [
    {
     "data": {
      "image/png": "[encoded data removed]",
      "text/plain": [
       "<Figure size 640x480 with 1 Axes>"
      ]
     },
     "metadata": {},
     "output_type": "display_data"
    }
   ],
   "source": [
    "# Visualize contacts onto pc_35\n",
    "put_num_connections_df_violin(neuron_connections_pc35, 'pc_35', 'Cell Type', 'Connections')"
   ]
  },
  {
   "cell_type": "code",
   "execution_count": null,
   "id": "c4ee9bee",
   "metadata": {},
   "outputs": [],
   "source": []
  }
 ],
 "metadata": {
  "kernelspec": {
   "display_name": "Python 3 (ipykernel)",
   "language": "python",
   "name": "python3"
  },
  "language_info": {
   "codemirror_mode": {
    "name": "ipython",
    "version": 3
   },
   "file_extension": ".py",
   "mimetype": "text/x-python",
   "name": "python",
   "nbconvert_exporter": "python",
   "pygments_lexer": "ipython3",
   "version": "3.11.5"
  }
 },
 "nbformat": 4,
 "nbformat_minor": 5
}
